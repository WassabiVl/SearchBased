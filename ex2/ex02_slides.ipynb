{
 "cells": [
  {
   "cell_type": "markdown",
   "metadata": {},
   "source": [
    "# Exercise 02 - Genetic Algorithms\n",
    "### Intelligent Software Systems - summer term 2018\n",
    "#### by André Karge"
   ]
  },
  {
   "cell_type": "markdown",
   "metadata": {},
   "source": [
    "Goal of this exercise is to learn and understand genetic algorithms by finding an optimal configuration for highly configurable software systems"
   ]
  },
  {
   "cell_type": "markdown",
   "metadata": {},
   "source": [
    "## Highly Configurable Software Systems\n",
    "Can be for example the Linux-Kernel or SQLite.\n",
    "\n",
    "### Linux-Kernel\n",
    "- has ca. 6,000,000 lines of code\n",
    "- is highly configurable\n",
    "    - \\> 10,000 configurable options (e.g.: x86, 64bit, ...)\n",
    "    - nearly all source code is optional\n",
    "\n",
    "### SQLite\n",
    "- is an embedded highly configurable database system\n",
    "    - deployed on over 500 million systems\n",
    "    - provides 88 compiler options for configurations\n",
    "- suppose we would measure each variant of SQLite:\n",
    "    - 2^88 variants and 5 minutes per measurement (compile + benchmark)\n",
    "    \n",
    "    = 2^88 * 5min / 60 (per h) / 24 (per day) / 365 (per year)\n",
    "    \n",
    "    = 2,944,111,585,058,457,655,296 years\n",
    "    \n",
    "this is why we use a meta-heuristic, since we don't want to wait that long ;)"
   ]
  },
  {
   "cell_type": "markdown",
   "metadata": {},
   "source": [
    "## Problem set description for this exercise\n",
    "\n",
    "Highly configurable software systems are systems which provide many features to be selected for creating an individual variant of a program.\n",
    "\n",
    "However, selecting and deselecting specific features for a configuration can result in efficient or an inefficient configurations of the program.\n",
    "\n",
    "For the exercise, we want to find an optimal configuration for the *h264* and *bdbc* systems.\n",
    "\n",
    "#### h264\n",
    "\n",
    "h264 is a block-oriented motion-compensation-based video compression standard ([source](https://en.wikipedia.org/wiki/H.264/MPEG-4_AVC)). \n",
    "\n",
    "#### bdbc\n",
    "Berkeley DB (bdb) is a software library intended to provide a high-performance embedded database for key/value data ([source](https://en.wikipedia.org/wiki/Berkeley_DB)). The given dataset is based on the c-implementation of bdb."
   ]
  },
  {
   "cell_type": "markdown",
   "metadata": {},
   "source": [
    "## Problem sets\n",
    "- Each problem set consists of 2 files: features & interactions"
   ]
  },
  {
   "cell_type": "markdown",
   "metadata": {},
   "source": [
    "### Feature file definition\n",
    "- each line represents a feature of the software system\n",
    "- the value at the end of the line represents the performance value of the respective feature if enabled\n",
    "- for example \"have_crypto: 0.0120768614910988\" means that a version of the program can have a cryptographic function enabled and the feature influences the performance by 0.0120768614910988"
   ]
  },
  {
   "cell_type": "markdown",
   "metadata": {},
   "source": [
    "### Interaction file definition\n",
    "- each line represents a specific feature combination\n",
    "- a line consists of at least 2 features separated by a \"#\" and a performance value for this specific selection\n",
    "- for example: \"CS32MB#DIAGNOSTIC: 21.0214021572657\" means if CS32MB and DIAGNOSTIC are enabled, this affects the configuration performance by 21.0214021572657"
   ]
  },
  {
   "cell_type": "code",
   "execution_count": 46,
   "metadata": {
    "scrolled": false
   },
   "outputs": [
    {
     "name": "stdout",
     "output_type": "stream",
     "text": [
      "root: 4.29699011265453\n",
      "HAVE_CRYPTO: 0.0120768614910988\n",
      "HAVE_HASH: 4.62346632789263\n",
      "HAVE_REPLICATION: 0.274902720516604\n",
      "HAVE_VERIFY: 0.0534583494140551\n",
      "HAVE_SEQUENCE: 0.468274246157709\n",
      "HAVE_STATISTICS: 0.422176987829888\n",
      "DIAGNOSTIC: 0.00352722010086667\n",
      "PS1K: 0.789118194698634\n",
      "PS4K: 0.505426563786175\n",
      "PS8K: 1.69334751326048\n",
      "PS16K: 4.45418742564813\n",
      "PS32K: 0.746689251767928\n",
      "CS32MB: 3.86431506487224\n",
      "CS16MB: 2.95905633060594\n",
      "CS64MB: 2.58412079773263\n",
      "CS512MB: 5.34132772539305\n",
      "\n"
     ]
    }
   ],
   "source": [
    "bdbc_f = \"code/datasets/bdbc_feature.txt\"\n",
    "bdbc_i = \"code/datasets/bdbc_interactions.txt\"\n",
    "h264_f = \"code/datasets/h264_feature.txt\"\n",
    "h264_i = \"code/datasets/h264_interactions.txt\"\n",
    "\n",
    "path = bdbc_f\n",
    "#path = bdbc_i\n",
    "#path = h264_f\n",
    "#path = h264_i\n",
    "\n",
    "with open(path) as f:\n",
    "    content = f.read()\n",
    "print(content)"
   ]
  },
  {
   "cell_type": "markdown",
   "metadata": {},
   "source": [
    "### Aim of this exercise: find an optimal configuration (= high performance | max performance value)"
   ]
  },
  {
   "cell_type": "markdown",
   "metadata": {},
   "source": [
    "### Create a fitness function\n",
    "- Build a fitness assessment function using the given files"
   ]
  },
  {
   "cell_type": "markdown",
   "metadata": {},
   "source": [
    "feature file:\n",
    "root: 4.29699011265453\n",
    "HAVE_CRYPTO: 0.0120768614910988\n",
    "HAVE_HASH: 4.62346632789263\n",
    "HAVE_REPLICATION: 0.274902720516604\n",
    "...\n",
    "\n",
    "interaction file:\n",
    "PS16K#CS512MB: -4.05239323580753\n",
    "PS1K#HAVE_REPLICATION: -0.732537201572133\n",
    "HAVE_CRYPTO#PS8K: -0.833090135903526\n",
    "HAVE_REPLICATION#PS16K#DIAGNOSTIC: 31.7326205862695\n",
    "...\n",
    "\n",
    "fitness function:\n",
    "4.29 + HAVE_CRYPTO * 0.01 + HAVE_HASH * 4.63 + HAVE_REPLICATION * 0.27 + ... +\n",
    "PS16K * CS512MB * (-4.05) + PS1K * HAVE_REPLICATION * (- .73) + ..."
   ]
  },
  {
   "cell_type": "markdown",
   "metadata": {},
   "source": [
    "- write your genetic algorithm by using the framework given in file *run_genetic_alg.py*"
   ]
  },
  {
   "cell_type": "markdown",
   "metadata": {},
   "source": [
    "How to build a genetic algorithm? See lecture nodes for that."
   ]
  },
  {
   "cell_type": "markdown",
   "metadata": {},
   "source": [
    "How to model an individual candidate solution?\n",
    "- Use a feature vector with the length of all possible features\n",
    "- represent the selection of a feature as either 0 (deselected) or 1 (selected)\n",
    "\n",
    "For example when selecting only the feature \"root\" in bdbc:\n",
    "\n",
    "[1,0,0,0,0,0,0,0,0,0,0,0,0,0,0,0,0]\n",
    "\n",
    "The fitness of this candidate solution is: 4.29699011265453"
   ]
  }
 ],
 "metadata": {
  "kernelspec": {
   "display_name": "Python 3",
   "language": "python",
   "name": "python3"
  },
  "language_info": {
   "codemirror_mode": {
    "name": "ipython",
    "version": 3
   },
   "file_extension": ".py",
   "mimetype": "text/x-python",
   "name": "python",
   "nbconvert_exporter": "python",
   "pygments_lexer": "ipython3",
   "version": "3.5.2"
  }
 },
 "nbformat": 4,
 "nbformat_minor": 2
}
